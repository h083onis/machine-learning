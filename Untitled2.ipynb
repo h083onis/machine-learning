{
 "cells": [
  {
   "cell_type": "code",
   "execution_count": null,
   "metadata": {},
   "outputs": [],
   "source": []
  }
 ],
 "metadata": {
  "kernelspec": {
   "display_name": "Python 3.10.7 64-bit",
   "language": "python",
   "name": "python3"
  },
  "language_info": {
   "name": "python",
   "version": "3.10.7"
  },
  "vscode": {
   "interpreter": {
    "hash": "d11d87a4b84ebb4a9842196582d44fb9e7e537a5e1746d3b42ea13fbdbac95dc"
   }
  }
 },
 "nbformat": 4,
 "nbformat_minor": 4
}
